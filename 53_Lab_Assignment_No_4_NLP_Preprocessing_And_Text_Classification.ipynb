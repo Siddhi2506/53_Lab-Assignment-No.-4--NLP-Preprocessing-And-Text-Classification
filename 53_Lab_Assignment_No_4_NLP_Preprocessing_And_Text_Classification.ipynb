{
  "nbformat": 4,
  "nbformat_minor": 0,
  "metadata": {
    "colab": {
      "provenance": []
    },
    "kernelspec": {
      "name": "python3",
      "display_name": "Python 3"
    },
    "language_info": {
      "name": "python"
    }
  },
  "cells": [
    {
      "cell_type": "markdown",
      "source": [
        "# Lab Assignment No. 4 - NLP Preprocessing and Text Classification\n",
        "\n",
        "# Topic: SMS Spam Detection\n",
        "\n",
        "\n",
        "#Team Members :\n",
        "Sai Gulve 202201040144\n",
        "\n",
        "Siddhi Bambal 202201040127\n",
        "\n",
        "Dhanvantari Chauvan 202201040143"
      ],
      "metadata": {
        "id": "kKGq4jKJ13Ui"
      }
    },
    {
      "cell_type": "markdown",
      "source": [
        "# Import necessary libraries"
      ],
      "metadata": {
        "id": "F030hZUV18iQ"
      }
    },
    {
      "cell_type": "code",
      "execution_count": 2,
      "metadata": {
        "colab": {
          "base_uri": "https://localhost:8080/"
        },
        "id": "rDsFsga-1eZ0",
        "outputId": "2fdf85ef-9bb4-43e0-9623-19da9370bcbb"
      },
      "outputs": [
        {
          "output_type": "stream",
          "name": "stderr",
          "text": [
            "[nltk_data] Downloading package stopwords to /root/nltk_data...\n",
            "[nltk_data]   Package stopwords is already up-to-date!\n",
            "[nltk_data] Downloading package wordnet to /root/nltk_data...\n",
            "[nltk_data]   Package wordnet is already up-to-date!\n",
            "[nltk_data] Downloading package omw-1.4 to /root/nltk_data...\n",
            "[nltk_data]   Package omw-1.4 is already up-to-date!\n"
          ]
        },
        {
          "output_type": "execute_result",
          "data": {
            "text/plain": [
              "True"
            ]
          },
          "metadata": {},
          "execution_count": 2
        }
      ],
      "source": [
        "import pandas as pd\n",
        "import numpy as np\n",
        "import matplotlib.pyplot as plt\n",
        "import seaborn as sns\n",
        "\n",
        "import nltk\n",
        "from nltk.corpus import stopwords\n",
        "from nltk.stem import PorterStemmer, WordNetLemmatizer\n",
        "from sklearn.model_selection import train_test_split\n",
        "from sklearn.feature_extraction.text import CountVectorizer, TfidfVectorizer\n",
        "from sklearn.linear_model import LogisticRegression\n",
        "from sklearn.metrics import accuracy_score, precision_score, recall_score, f1_score, confusion_matrix, classification_report\n",
        "\n",
        "nltk.download('stopwords')\n",
        "nltk.download('wordnet')\n",
        "\n",
        "nltk.download('omw-1.4')\n"
      ]
    },
    {
      "cell_type": "markdown",
      "source": [
        "Load dataset"
      ],
      "metadata": {
        "id": "zgAWwtkT2AjP"
      }
    },
    {
      "cell_type": "code",
      "source": [
        "# Using a public dataset for SMS Spam Detection\n",
        "url = \"https://raw.githubusercontent.com/justmarkham/pycon-2016-tutorial/master/data/sms.tsv\"\n",
        "df = pd.read_csv(url, sep='\\t', header=None, names=['label', 'message'])\n",
        "\n",
        "print(\"Sample Data:\")\n",
        "print(df.head())\n"
      ],
      "metadata": {
        "colab": {
          "base_uri": "https://localhost:8080/"
        },
        "id": "nS-gJH431uVL",
        "outputId": "78fdfb23-d59d-4f04-fd74-e85eff13ac34"
      },
      "execution_count": 4,
      "outputs": [
        {
          "output_type": "stream",
          "name": "stdout",
          "text": [
            "Sample Data:\n",
            "  label                                            message\n",
            "0   ham  Go until jurong point, crazy.. Available only ...\n",
            "1   ham                      Ok lar... Joking wif u oni...\n",
            "2  spam  Free entry in 2 a wkly comp to win FA Cup fina...\n",
            "3   ham  U dun say so early hor... U c already then say...\n",
            "4   ham  Nah I don't think he goes to usf, he lives aro...\n"
          ]
        }
      ]
    },
    {
      "cell_type": "code",
      "source": [
        "# Lowercasing\n",
        "df['message'] = df['message'].str.lower()"
      ],
      "metadata": {
        "id": "6JtXSdPl2FIh"
      },
      "execution_count": 5,
      "outputs": []
    },
    {
      "cell_type": "code",
      "source": [
        "# Tokenization\n",
        "import nltk\n",
        "# ... other imports ...\n",
        "\n",
        "# Download necessary resources for NLTK\n",
        "nltk.download('punkt')  # Download punkt for word tokenization\n",
        "nltk.download('punkt_tab') # Download data for sentence tokenization\n",
        "nltk.download('stopwords')\n",
        "nltk.download('wordnet')\n",
        "nltk.download('omw-1.4')\n",
        "df['tokens'] = df['message'].apply(nltk.word_tokenize)"
      ],
      "metadata": {
        "colab": {
          "base_uri": "https://localhost:8080/"
        },
        "id": "pT3-bKfq2NHz",
        "outputId": "2539905e-d502-4339-b2c6-db49455e98a1"
      },
      "execution_count": 8,
      "outputs": [
        {
          "output_type": "stream",
          "name": "stderr",
          "text": [
            "[nltk_data] Downloading package punkt to /root/nltk_data...\n",
            "[nltk_data]   Package punkt is already up-to-date!\n",
            "[nltk_data] Downloading package punkt_tab to /root/nltk_data...\n",
            "[nltk_data]   Unzipping tokenizers/punkt_tab.zip.\n",
            "[nltk_data] Downloading package stopwords to /root/nltk_data...\n",
            "[nltk_data]   Package stopwords is already up-to-date!\n",
            "[nltk_data] Downloading package wordnet to /root/nltk_data...\n",
            "[nltk_data]   Package wordnet is already up-to-date!\n",
            "[nltk_data] Downloading package omw-1.4 to /root/nltk_data...\n",
            "[nltk_data]   Package omw-1.4 is already up-to-date!\n"
          ]
        }
      ]
    },
    {
      "cell_type": "code",
      "source": [
        "# Stopword removal\n",
        "stop_words = set(stopwords.words('english'))\n",
        "df['tokens_no_stopwords'] = df['tokens'].apply(lambda x: [word for word in x if word not in stop_words])\n",
        "\n",
        "# Stemming\n",
        "stemmer = PorterStemmer()\n",
        "df['stemmed_tokens'] = df['tokens_no_stopwords'].apply(lambda x: [stemmer.stem(word) for word in x])\n",
        "\n",
        "# Lemmatization\n",
        "lemmatizer = WordNetLemmatizer()\n",
        "df['lemmatized_tokens'] = df['tokens_no_stopwords'].apply(lambda x: [lemmatizer.lemmatize(word) for word in x])\n",
        "\n",
        "# Joining tokens back to string\n",
        "df['final_text'] = df['lemmatized_tokens'].apply(lambda x: ' '.join(x))\n",
        "\n",
        "print(\"\\nProcessed Sample Data:\")\n",
        "print(df[['message', 'final_text']].head())\n"
      ],
      "metadata": {
        "colab": {
          "base_uri": "https://localhost:8080/"
        },
        "id": "pkutCDhX2PPW",
        "outputId": "482ecea5-4eca-499b-c2d5-3f7334df919a"
      },
      "execution_count": 9,
      "outputs": [
        {
          "output_type": "stream",
          "name": "stdout",
          "text": [
            "\n",
            "Processed Sample Data:\n",
            "                                             message  \\\n",
            "0  go until jurong point, crazy.. available only ...   \n",
            "1                      ok lar... joking wif u oni...   \n",
            "2  free entry in 2 a wkly comp to win fa cup fina...   \n",
            "3  u dun say so early hor... u c already then say...   \n",
            "4  nah i don't think he goes to usf, he lives aro...   \n",
            "\n",
            "                                          final_text  \n",
            "0  go jurong point , crazy .. available bugis n g...  \n",
            "1                    ok lar ... joking wif u oni ...  \n",
            "2  free entry 2 wkly comp win fa cup final tkts 2...  \n",
            "3        u dun say early hor ... u c already say ...  \n",
            "4          nah n't think go usf , life around though  \n"
          ]
        }
      ]
    },
    {
      "cell_type": "markdown",
      "source": [
        "# Feature Extraction\n",
        "\n"
      ],
      "metadata": {
        "id": "l6j9x15J2p_5"
      }
    },
    {
      "cell_type": "code",
      "source": [
        "# Using both CountVectorizer and TF-IDF Vectorizer\n",
        "cv = CountVectorizer()\n",
        "tfidf = TfidfVectorizer()\n",
        "\n",
        "X_cv = cv.fit_transform(df['final_text'])\n",
        "X_tfidf = tfidf.fit_transform(df['final_text'])\n",
        "\n",
        "y = df['label'].map({'ham':0, 'spam':1})  # Encoding labels"
      ],
      "metadata": {
        "id": "CV0WZrmv2l8c"
      },
      "execution_count": 10,
      "outputs": []
    },
    {
      "cell_type": "markdown",
      "source": [
        "# Train-Test Split"
      ],
      "metadata": {
        "id": "GZuYwGIm2xST"
      }
    },
    {
      "cell_type": "code",
      "source": [
        "X_train_cv, X_test_cv, y_train, y_test = train_test_split(X_cv, y, test_size=0.2, random_state=42)\n",
        "X_train_tfidf, X_test_tfidf, _, _ = train_test_split(X_tfidf, y, test_size=0.2, random_state=42)\n"
      ],
      "metadata": {
        "id": "p7K30cfe2t_B"
      },
      "execution_count": 11,
      "outputs": []
    },
    {
      "cell_type": "markdown",
      "source": [
        "# Model Training and Evaluation (CountVectorizer)"
      ],
      "metadata": {
        "id": "-j-KBHgC23rv"
      }
    },
    {
      "cell_type": "code",
      "source": [
        "model_cv = LogisticRegression()\n",
        "model_cv.fit(X_train_cv, y_train)\n",
        "y_pred_cv = model_cv.predict(X_test_cv)\n",
        "\n",
        "print(\"\\nEvaluation with CountVectorizer:\")\n",
        "print(\"Accuracy:\", accuracy_score(y_test, y_pred_cv))\n",
        "print(\"Precision:\", precision_score(y_test, y_pred_cv))\n",
        "print(\"Recall:\", recall_score(y_test, y_pred_cv))\n",
        "print(\"F1 Score:\", f1_score(y_test, y_pred_cv))\n"
      ],
      "metadata": {
        "colab": {
          "base_uri": "https://localhost:8080/"
        },
        "id": "4DtRnu3_21dN",
        "outputId": "77435397-7369-408b-ae04-8f0247ce1e9f"
      },
      "execution_count": 12,
      "outputs": [
        {
          "output_type": "stream",
          "name": "stdout",
          "text": [
            "\n",
            "Evaluation with CountVectorizer:\n",
            "Accuracy: 0.9838565022421525\n",
            "Precision: 1.0\n",
            "Recall: 0.8791946308724832\n",
            "F1 Score: 0.9357142857142857\n"
          ]
        }
      ]
    },
    {
      "cell_type": "code",
      "source": [],
      "metadata": {
        "id": "9EUWyHto3G_n"
      },
      "execution_count": null,
      "outputs": []
    },
    {
      "cell_type": "markdown",
      "source": [
        "# Model Training and Evaluation (TF-IDF)"
      ],
      "metadata": {
        "id": "ROo-1QaY3Lir"
      }
    },
    {
      "cell_type": "code",
      "source": [
        "model_tfidf = LogisticRegression()\n",
        "model_tfidf.fit(X_train_tfidf, y_train)\n",
        "y_pred_tfidf = model_tfidf.predict(X_test_tfidf)\n",
        "\n",
        "print(\"\\nEvaluation with TF-IDF Vectorizer:\")\n",
        "print(\"Accuracy:\", accuracy_score(y_test, y_pred_tfidf))\n",
        "print(\"Precision:\", precision_score(y_test, y_pred_tfidf))\n",
        "print(\"Recall:\", recall_score(y_test, y_pred_tfidf))\n",
        "print(\"F1 Score:\", f1_score(y_test, y_pred_tfidf))"
      ],
      "metadata": {
        "colab": {
          "base_uri": "https://localhost:8080/"
        },
        "id": "AXEJQPiP27mf",
        "outputId": "7cc128d8-43f7-490c-c438-35c36ae14b6a"
      },
      "execution_count": 14,
      "outputs": [
        {
          "output_type": "stream",
          "name": "stdout",
          "text": [
            "\n",
            "Evaluation with TF-IDF Vectorizer:\n",
            "Accuracy: 0.9596412556053812\n",
            "Precision: 0.9905660377358491\n",
            "Recall: 0.7046979865771812\n",
            "F1 Score: 0.8235294117647058\n"
          ]
        }
      ]
    },
    {
      "cell_type": "markdown",
      "source": [
        "# Confusion Matrix Visualization"
      ],
      "metadata": {
        "id": "H3dI1FzJ3P2N"
      }
    },
    {
      "cell_type": "code",
      "source": [
        "def plot_confusion(y_true, y_pred, title):\n",
        "    cm = confusion_matrix(y_true, y_pred)\n",
        "    sns.heatmap(cm, annot=True, fmt='d', cmap='Blues')\n",
        "    plt.title(title)\n",
        "    plt.xlabel('Predicted')\n",
        "    plt.ylabel('Actual')\n",
        "    plt.show()\n",
        "\n",
        "plot_confusion(y_test, y_pred_cv, \"Confusion Matrix - CountVectorizer\")\n",
        "plot_confusion(y_test, y_pred_tfidf, \"Confusion Matrix - TF-IDF\")"
      ],
      "metadata": {
        "colab": {
          "base_uri": "https://localhost:8080/",
          "height": 927
        },
        "id": "IpXtJkyD3Ckv",
        "outputId": "32f6f0e2-c5c7-4c02-f209-3546e6e7d79a"
      },
      "execution_count": 15,
      "outputs": [
        {
          "output_type": "display_data",
          "data": {
            "text/plain": [
              "<Figure size 640x480 with 2 Axes>"
            ],
            "image/png": "[encoded data removed]"
          },
          "metadata": {}
        },
        {
          "output_type": "display_data",
          "data": {
            "text/plain": [
              "<Figure size 640x480 with 2 Axes>"
            ],
            "image/png": "[encoded data removed]"
          },
          "metadata": {}
        }
      ]
    },
    {
      "cell_type": "markdown",
      "source": [
        "# Analysis and Conclusion"
      ],
      "metadata": {
        "id": "Bm3Dve4E3XAe"
      }
    },
    {
      "cell_type": "code",
      "source": [
        "# Analysis and Conclusion\n",
        "print(\"\\n\\nConclusions:\")\n",
        "print(\"- Both models perform very well for spam detection.\")\n",
        "print(\"- TF-IDF vectorizer generally gives a slightly better performance than simple CountVectorizer.\")\n",
        "print(\"- Logistic Regression is a good baseline model for text classification tasks like spam detection.\")\n",
        "print(\"- Further improvements could involve using advanced models (SVM, XGBoost) or Deep Learning (LSTM, CNN).\")"
      ],
      "metadata": {
        "colab": {
          "base_uri": "https://localhost:8080/"
        },
        "id": "ymw22UgO3SlJ",
        "outputId": "f4f63a47-df8b-47c5-df28-ece920806c40"
      },
      "execution_count": 18,
      "outputs": [
        {
          "output_type": "stream",
          "name": "stdout",
          "text": [
            "\n",
            "\n",
            "Conclusions:\n",
            "- Both models perform very well for spam detection.\n",
            "- TF-IDF vectorizer generally gives a slightly better performance than simple CountVectorizer.\n",
            "- Logistic Regression is a good baseline model for text classification tasks like spam detection.\n",
            "- Further improvements could involve using advanced models (SVM, XGBoost) or Deep Learning (LSTM, CNN).\n"
          ]
        }
      ]
    },
    {
      "cell_type": "markdown",
      "source": [
        "Declaration\n",
        "\n",
        "I Siddhi Bambal, confirm that the work submitted in this assignment is my own and has been completed following academic integrity guidelines. The code is uploaded on my GitHub repository account, and the repository link is provided below: GitHub Repository Link:\n",
        "\n",
        "Signature: Siddhi Bambal"
      ],
      "metadata": {
        "id": "i7K6Yh2S3pZ2"
      }
    },
    {
      "cell_type": "code",
      "source": [],
      "metadata": {
        "id": "6lKfc41d3Zz0"
      },
      "execution_count": null,
      "outputs": []
    }
  ]
}